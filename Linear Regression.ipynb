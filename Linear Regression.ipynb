{
 "cells": [
  {
   "cell_type": "code",
   "execution_count": 1,
   "metadata": {
    "collapsed": true
   },
   "outputs": [],
   "source": [
    "# Import the necessary modules\n",
    "import pandas as pd\n",
    "import numpy as np\n",
    "import re\n",
    "from nltk.tokenize import TweetTokenizer, WhitespaceTokenizer\n",
    "from nltk.corpus import stopwords\n",
    "from nltk.stem import WordNetLemmatizer\n",
    "\n",
    "#training Modules\n",
    "from sklearn.feature_extraction.text import CountVectorizer\n",
    "from sklearn.model_selection import train_test_split \n",
    "from sklearn.linear_model import LinearRegression\n",
    "\n",
    "#Evaluation Modules\n",
    "from sklearn.metrics import f1_score\n",
    "from sklearn.metrics import mean_squared_error\n",
    "from sklearn.metrics import confusion_matrix, classification_report"
   ]
  },
  {
   "cell_type": "code",
   "execution_count": 2,
   "metadata": {
    "collapsed": true
   },
   "outputs": [],
   "source": [
    "#reading the dataset files\n",
    "train_df = pd.read_json(\"training_set.json\")\n",
    "test_df = pd.read_json(\"test_set.json\")\n",
    "# hashtag_corpus = pd.read_json(\"NTUSDFinCorpus/NTUSD_Fin_hashtag_v1.0.json\")\n",
    "# word_corpus = pd.read_json(\"NTUSDFinCorpus/NTUSD_Fin_word_v1.0.json\")\n",
    "emoji_corpus = pd.read_json(\"NTUSD_Fin_emoji_v1.0.json\")"
   ]
  },
  {
   "cell_type": "markdown",
   "metadata": {},
   "source": [
    "# Pre-Processing"
   ]
  },
  {
   "cell_type": "code",
   "execution_count": 3,
   "metadata": {
    "collapsed": true
   },
   "outputs": [],
   "source": [
    "#placeholders \n",
    "rep = 0  #index for placeholders\n",
    "p_mentions = [\" @mentions \", \" \"]\n",
    "p_cashtag = [\" @cashtag \", \" \"]\n",
    "p_url = [\" @url \", \" \"]\n",
    "stopwords = set(stopwords.words(\"english\"))\n",
    "qmark = \" qmark \"  \n",
    "emark = \" emark \""
   ]
  },
  {
   "cell_type": "code",
   "execution_count": 4,
   "metadata": {
    "collapsed": true
   },
   "outputs": [],
   "source": [
    "w_tokenizer = WhitespaceTokenizer()\n",
    "lemmatizer = WordNetLemmatizer()\n",
    "def lemmatize_text(text):\n",
    "    return ' '.join([lemmatizer.lemmatize(w) for w in w_tokenizer.tokenize(text)])"
   ]
  },
  {
   "cell_type": "markdown",
   "metadata": {},
   "source": [
    "#### processing steps\n",
    "- lowercase conversion\n",
    "- replace mentions\n",
    "- replace cashtag\n",
    "- replace urls\n",
    "- replace special unicode characters (&, > , < ,' )\n",
    "- removing stopwords\n",
    "- lemmatization"
   ]
  },
  {
   "cell_type": "code",
   "execution_count": 5,
   "metadata": {},
   "outputs": [],
   "source": [
    "train_df['tweet'] = train_df['tweet'].str.lower()\n",
    "train_df['tweet'] = train_df['tweet'].str.replace('([@][\\w_-]+)', p_mentions[rep], case=False)\n",
    "train_df['tweet'] = train_df['tweet'].str.replace('([$][a-z]+)', p_cashtag[rep], case=False)\n",
    "train_df['tweet'] = train_df['tweet'].str.replace('http\\S+|www.\\S+', p_url[rep], case=False)\n",
    "train_df['tweet'] = train_df['tweet'].str.replace('&amp', \" & \", case=False)\n",
    "train_df['tweet'] = train_df['tweet'].str.replace('&#39;', \"'\", case=False)\n",
    "test_df['tweet'] = test_df['tweet'].str.replace('&gt;', \" \", case=False)\n",
    "test_df['tweet'] = test_df['tweet'].str.replace('&lt;', \" \", case=False)\n",
    "train_df['tweet'] = train_df['tweet'].str.replace('\\?', qmark, case=False)\n",
    "train_df['tweet'] = train_df['tweet'].str.replace('!', emark, case=False)\n",
    "train_df['tweet'] = train_df['tweet'].apply(lambda x: ' '.join([word for word in x.split() if word not in (stopwords)]))\n",
    "train_df['tweet'] = train_df['tweet'].apply(lemmatize_text)"
   ]
  },
  {
   "cell_type": "markdown",
   "metadata": {},
   "source": [
    "preprocessing steps taken for test dataset is the same for training dataset"
   ]
  },
  {
   "cell_type": "code",
   "execution_count": 6,
   "metadata": {
    "collapsed": true
   },
   "outputs": [],
   "source": [
    "test_df['tweet'] = test_df['tweet'].str.lower()\n",
    "test_df['tweet'] = test_df['tweet'].str.replace('([@][\\w_-]+)', p_mentions[rep], case=False)\n",
    "test_df['tweet'] = test_df['tweet'].str.replace('([$][a-z]+)', p_cashtag[rep], case=False)\n",
    "test_df['tweet'] = test_df['tweet'].str.replace('http\\S+|www.\\S+',  p_url[rep], case=False)\n",
    "test_df['tweet'] = test_df['tweet'].str.replace('&amp', \" & \", case=False)\n",
    "test_df['tweet'] = test_df['tweet'].str.replace('&#39;', \"'\", case=False)\n",
    "test_df['tweet'] = test_df['tweet'].str.replace('&gt;', \" \", case=False)\n",
    "test_df['tweet'] = test_df['tweet'].str.replace('&lt;', \" \", case=False)\n",
    "test_df['tweet'] = test_df['tweet'].str.replace('\\?', qmark, case=False)\n",
    "test_df['tweet'] = test_df['tweet'].str.replace('!', emark, case=False)\n",
    "test_df['tweet'] = test_df['tweet'].apply(lambda x: ' '.join([word for word in x.split() if word not in (stopwords)]))\n",
    "test_df['tweet'] = test_df['tweet'].apply(lemmatize_text)"
   ]
  },
  {
   "cell_type": "markdown",
   "metadata": {},
   "source": [
    "# Training the Model (Linear Regression) "
   ]
  },
  {
   "cell_type": "code",
   "execution_count": 9,
   "metadata": {
    "collapsed": true
   },
   "outputs": [],
   "source": [
    "from sklearn.feature_extraction.text import CountVectorizer\n",
    "cv = CountVectorizer( analyzer='word',\n",
    "                      ngram_range=(1,3),\n",
    "                      stop_words = 'english')"
   ]
  },
  {
   "cell_type": "code",
   "execution_count": 10,
   "metadata": {},
   "outputs": [],
   "source": [
    "model = cv.fit_transform(list(train_df[\"tweet\"]))"
   ]
  },
  {
   "cell_type": "markdown",
   "metadata": {
    "collapsed": true
   },
   "source": [
    "X = list(train_df[\"tweet\"])\n",
    "y = train_df[\"sentiment\"]\n",
    "X = cv.fit_transform(X)\n",
    "X_train, X_test, y_train, y_test = train_test_split(X , y, test_size=0.33, random_state=42 )"
   ]
  },
  {
   "cell_type": "code",
   "execution_count": 11,
   "metadata": {
    "collapsed": true
   },
   "outputs": [],
   "source": [
    "cv.fit(train_df[\"tweet\"])\n",
    "X_train = cv.transform(train_df[\"tweet\"])\n",
    "X_test = cv.transform(test_df[\"tweet\"])\n",
    "y_train = train_df[\"sentiment\"]\n",
    "y_test = test_df[\"sentiment\"]"
   ]
  },
  {
   "cell_type": "code",
   "execution_count": 12,
   "metadata": {
    "collapsed": true
   },
   "outputs": [],
   "source": [
    "#linear regression model\n",
    "from sklearn.linear_model import LinearRegression\n",
    "log_model = LinearRegression(fit_intercept=True)\n",
    "log_model = log_model.fit(X_train, y_train)\n",
    "y_pred = log_model.predict(X_test)"
   ]
  },
  {
   "cell_type": "markdown",
   "metadata": {},
   "source": [
    "# Evaluation"
   ]
  },
  {
   "cell_type": "code",
   "execution_count": 13,
   "metadata": {
    "collapsed": true
   },
   "outputs": [],
   "source": [
    "def assignClasses(data): \n",
    "    value = list()\n",
    "    for i in data: \n",
    "        if i > 0:\n",
    "            value.append(\"bullish\")\n",
    "        elif i < 0:\n",
    "            value.append(\"bearish\")\n",
    "        else:\n",
    "            value.append(\"neutral\")\n",
    "    \n",
    "    return value "
   ]
  },
  {
   "cell_type": "code",
   "execution_count": 14,
   "metadata": {
    "collapsed": true
   },
   "outputs": [],
   "source": [
    "n_y_test = assignClasses(y_test)\n",
    "n_y_pred = assignClasses(y_pred)"
   ]
  },
  {
   "cell_type": "code",
   "execution_count": 15,
   "metadata": {
    "scrolled": false
   },
   "outputs": [
    {
     "name": "stdout",
     "output_type": "stream",
     "text": [
      "MSE:  0.0925858930359\n",
      "\n",
      "\n",
      "F1 Macro Avg:  0.511043613707\n",
      "F1 Micro Avg:  0.788643533123\n",
      "\n",
      "\n",
      "Classification Report  \n",
      "              precision    recall  f1-score   support\n",
      "\n",
      "    bearish       0.77      0.62      0.68       221\n",
      "    bullish       0.80      0.91      0.85       401\n",
      "    neutral       0.00      0.00      0.00        12\n",
      "\n",
      "avg / total       0.77      0.79      0.78       634\n",
      "\n"
     ]
    },
    {
     "name": "stderr",
     "output_type": "stream",
     "text": [
      "D:\\Anaconda\\lib\\site-packages\\sklearn\\metrics\\classification.py:1135: UndefinedMetricWarning: F-score is ill-defined and being set to 0.0 in labels with no predicted samples.\n",
      "  'precision', 'predicted', average, warn_for)\n",
      "D:\\Anaconda\\lib\\site-packages\\sklearn\\metrics\\classification.py:1135: UndefinedMetricWarning: Precision and F-score are ill-defined and being set to 0.0 in labels with no predicted samples.\n",
      "  'precision', 'predicted', average, warn_for)\n"
     ]
    }
   ],
   "source": [
    "#from sklearn.metrics import mean_squared_error\n",
    "#from sklearn.metrics import f1_score\n",
    "from sklearn.metrics import classification_report\n",
    "\n",
    "print(\"MSE: \", mean_squared_error(y_test, y_pred))\n",
    "print('\\n')\n",
    "print(\"F1 Macro Avg: \", f1_score(n_y_test, n_y_pred, average='macro'))\n",
    "print(\"F1 Micro Avg: \", f1_score(n_y_test, n_y_pred, average='micro'))\n",
    "print('\\n')\n",
    "print(\"Classification Report  \\n\", classification_report(n_y_test, n_y_pred))"
   ]
  }
 ],
 "metadata": {
  "kernelspec": {
   "display_name": "Python 3",
   "language": "python",
   "name": "python3"
  },
  "language_info": {
   "codemirror_mode": {
    "name": "ipython",
    "version": 3
   },
   "file_extension": ".py",
   "mimetype": "text/x-python",
   "name": "python",
   "nbconvert_exporter": "python",
   "pygments_lexer": "ipython3",
   "version": "3.6.3"
  }
 },
 "nbformat": 4,
 "nbformat_minor": 2
}
