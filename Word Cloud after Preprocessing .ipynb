{
 "cells": [
  {
   "cell_type": "code",
   "execution_count": 1,
   "metadata": {
    "collapsed": true
   },
   "outputs": [],
   "source": [
    "# Import the necessary modules\n",
    "from sklearn.feature_extraction.text import CountVectorizer\n",
    "from sklearn.model_selection import train_test_split \n",
    "import pandas as pd\n",
    "\n",
    "from sklearn.metrics import f1_score\n",
    "from sklearn.metrics import mean_squared_error\n",
    "\n",
    "\n",
    "\n",
    "import matplotlib.pyplot as plt\n",
    "from matplotlib import style\n",
    "\n",
    "# Adjusting the size of matplotlib\n",
    "import matplotlib as mpl\n",
    "mpl.rc('figure', figsize=(8, 7))\n",
    "mpl.__version__\n",
    "\n",
    "# Adjusting the style of matplotlib\n",
    "style.use('ggplot')\n",
    "\n",
    "# Magic to tell python notebook we want matplotlib charts included\n",
    "%matplotlib inline"
   ]
  },
  {
   "cell_type": "code",
   "execution_count": 2,
   "metadata": {
    "collapsed": true
   },
   "outputs": [],
   "source": [
    "df = pd.read_json(\"training_set.json\")"
   ]
  },
  {
   "cell_type": "code",
   "execution_count": 3,
   "metadata": {},
   "outputs": [
    {
     "name": "stdout",
     "output_type": "stream",
     "text": [
      "      sentiment                                            snippet  target  \\\n",
      "0        -0.463                                          downgrade   $PCAR   \n",
      "1         0.678       [looking sexy this morning, break on volume]   $AMZN   \n",
      "2         0.377                               still long term fan!   $SBUX   \n",
      "3         0.129  $TFM will have a way to go price wise to compe...     $KR   \n",
      "4         0.395      iPhone SE Could Be Doing Better Than Expected   $AAPL   \n",
      "5         0.458      Now up to 200 stocks making new 52 week highs    $TJX   \n",
      "6         0.288  There's no reason why $GOOGL can't get back to...  $GOOGL   \n",
      "7        -0.453                                              short   $CVEO   \n",
      "8         0.372               Pivotal sees 27% upside for Alphabet   $YHOO   \n",
      "9         0.216                                  the most trending   $DWTI   \n",
      "10        0.241  $GOOGL patents turn signal detector for autono...  $GOOGL   \n",
      "11        0.557            Investor long-term stock recommendation   $COST   \n",
      "12        0.419      Breaking 52 week highs timing looks great now   $IRDM   \n",
      "13       -0.641    makes less profit than the sales of $AAPL Watch     $FB   \n",
      "14        0.344                      I'm watching(and buy targets)    $CSX   \n",
      "15       -0.289  decision to sell robot business exposes growin...  $GOOGL   \n",
      "16        0.430                    [$MSFT, higher than I expected]   $MSFT   \n",
      "17       -0.147                                 suddenly realizing     $FB   \n",
      "18        0.484  [10% Dividend Increase Rewards Patient Investo...   $QCOM   \n",
      "19        0.529                                    Nice day rally!    $SLB   \n",
      "20        0.406                                          #oversold   $CLDX   \n",
      "21       -0.317                                     Today's losers   $ENDP   \n",
      "22        0.374                                next major platform   $AMZN   \n",
      "23        0.589                                 Added $REGN at 402   $REGN   \n",
      "24       -0.195                     It Needs A New Tablet Strategy   $AAPL   \n",
      "25       -0.591                                          sell $RHT    $RHT   \n",
      "26        0.422             I'll take the other side of that trade    $AGN   \n",
      "27       -0.374                                 getting out of his   $TSLA   \n",
      "28        0.489                                          buy $WYNN   $WYNN   \n",
      "29       -0.140  less than stellar day but it held the 50 day m...   $COST   \n",
      "...         ...                                                ...     ...   \n",
      "1366      0.194              buy point has changed to 319 from 318   $AMZN   \n",
      "1367      0.598                                        I'm a buyer   $TSLA   \n",
      "1368      0.314                   Stocks Higher In Afternoon Trade     $UA   \n",
      "1369     -0.382                                         Lets BURN!   $AAPL   \n",
      "1370     -0.039                     Now I'm glad I got stopped out   $AAPL   \n",
      "1371     -0.259                                    all out for now   $QLYS   \n",
      "1372      0.329                                       Covered Call   $SCTY   \n",
      "1373      0.259                  I sold half of my $UGAZ Long here   $UGAZ   \n",
      "1374      0.222    over 100% upside left from here in next 6 mnths   $BIDU   \n",
      "1375     -0.573                           it's been a sinking ship     $HK   \n",
      "1376     -0.451                      Jan-18 6 Put with a big print   $SYMC   \n",
      "1377      0.511                                              LONGS   $CLWR   \n",
      "1378      0.294                        Future profits will be huge   $YELP   \n",
      "1379     -0.133               Major pump and dump coming this week    $OCN   \n",
      "1380      0.452                               biggest St50 gainers    $PKT   \n",
      "1381      0.168            wait a little longer before re-entering   $UGAZ   \n",
      "1382      0.272                      possible double bottom set up    $GLD   \n",
      "1383     -0.134                               Short week next week    $TZA   \n",
      "1384      0.419      Breaking 52 week highs timing looks great now    $IGE   \n",
      "1385      0.219  Short Squeeze Ready To Upside w Crossing Impor...    $MGM   \n",
      "1386      0.529                                       buy area now   $AAPL   \n",
      "1387     -0.302                         Begin The Assault On Intel   $INTC   \n",
      "1388      0.087                                Today I bought more   $YHOO   \n",
      "1389     -0.312  analysts conjuring up metrics to bring it down...   $AAPL   \n",
      "1390      0.395                                     Surges On Deal  $CMCSA   \n",
      "1391      0.489                   If i had to pick one it would be    $STX   \n",
      "1392      0.314                   Stocks Higher In Afternoon Trade     $AA   \n",
      "1393     -0.189  Not sure we can see too much $TSLA up side thu...   $TSLA   \n",
      "1394     -0.287                  NO one Believes in Flyin' anymore   $PCLN   \n",
      "1395      0.322                                           In 73.24    $TNA   \n",
      "\n",
      "                                                  tweet  classes  \n",
      "0     downgrades $SON $ARI $GG $FLTX $WMC $MFA $IVR ...  bullish  \n",
      "1     $AMZN looking sexy this morning...$600 break o...  bearish  \n",
      "2     @GerberKawasaki stock hasn't moved much since ...  bearish  \n",
      "3     Whole foods $WFM may feel price competition bu...  bearish  \n",
      "4     Apple's iPhone SE Could Be Doing Better Than E...  bearish  \n",
      "5     Now up to 200 stocks making new 52 week highs ...  bearish  \n",
      "6     There's no reason why $GOOGL can't get back to...  bearish  \n",
      "7     Nice names on watch for tomorrow $TUES long $8...  bullish  \n",
      "8     Pivotal sees 27% upside for Alphabet https://t...  bearish  \n",
      "9     Good Morning! Here's some of the most trending...  bearish  \n",
      "10    $GOOGL patents turn signal detector for autono...  bearish  \n",
      "11    SFTW Investor long-term stock recommendation: ...  bearish  \n",
      "12    Breaking 52 week highs timing looks great now\\...  bearish  \n",
      "13    Amazing how $FB at 300B market cap makes less ...  bullish  \n",
      "14    Stocks I'm watching(and buy targets): $CSX 20,...  bearish  \n",
      "15    Google's decision to sell robot business expos...  bullish  \n",
      "16    $MSFT $NFLX higher than I expected, $AAPL much...  bearish  \n",
      "17    Facebook is suddenly realizing SnR is a proble...  bullish  \n",
      "18    Qualcomm: 10% Dividend Increase Rewards Patien...  bearish  \n",
      "19    $AAPL $FB $AMZN $PG $MCD $GS $C $GE $UTX $SLB ...  bearish  \n",
      "20    Looking for sales curious about $ENDP drop amo...  bearish  \n",
      "21    Today's losers: $HTZ $CAR $ENDP $ICPT $BLUE $N...  bullish  \n",
      "22    Don't look now but #Amazon &amp; #Bezos have d...  bearish  \n",
      "23                                   Added $REGN at 402  bearish  \n",
      "24    Apple Does Not Need A New Tablet, It Needs A N...  bullish  \n",
      "25    #FastMoneyEspresso\\nFINAL TRADES:\\nPete  Najar...  bullish  \n",
      "26    @sharkbiotech If anyone is selling/shorting $A...  bearish  \n",
      "27    @craigfalwell #TomSosnoff getting out of his $...  bullish  \n",
      "28    #FastMoneyEspresso\\nFINAL TRADES:\\nPete  Najar...  bearish  \n",
      "29    $COST Costco less than stellar day but it held...  bullish  \n",
      "...                                                 ...      ...  \n",
      "1366  $AMZN  update the buy point has changed to 319...  bearish  \n",
      "1367   Seat belt recall? who cares....I'm a buyer $TSLA  bearish  \n",
      "1368  Stocks Higher In Afternoon Trade; Intel Nears ...  bearish  \n",
      "1369  +.20 in my $SPY puts $AAPL lookin' ILL again. ...  bullish  \n",
      "1370  $AAPL Now I'm glad I got stopped out of my $11...  bullish  \n",
      "1371                        $QLYS all out for now +5.1%  bullish  \n",
      "1372  Covered Call Alerts for $TSLA, $SCTY, $BABA, $...  bearish  \n",
      "1373  I sold half of my $UGAZ Long here at $2.75 fro...  bearish  \n",
      "1374  $URI over 100% upside left from here in next 6...  bearish  \n",
      "1375  what is up with $HK..... from Jan to now it's ...  bullish  \n",
      "1376  $SYMC Jan-18 6 Put with a big print, 15k for $...  bullish  \n",
      "1377  2013 LONGS(12/31/2012 close) $CLWR >2.89 $SIRI...  bearish  \n",
      "1378  @StocksThatTalks why aren't you loading up on ...  bearish  \n",
      "1379  $OCN Major pump and dump coming this week. Fol...  bullish  \n",
      "1380  RT @StockTwits50 In a mostly red tape this mor...  bearish  \n",
      "1381  $UGAZ still like the challenge of this trade.....  bearish  \n",
      "1382  @catskillfishing  Note the monthly chart of $G...  bearish  \n",
      "1383  $IWM Short week next week.  Charts targeting a...  bullish  \n",
      "1384  Breaking 52 week highs timing looks great now$...  bearish  \n",
      "1385  $JBLU JetBlue Short Squeeze Ready To Upside w ...  bearish  \n",
      "1386  $AAPL http://stks.co/1LDx Clearing this descen...  bearish  \n",
      "1387  Google, IBM, ARM And AMD Begin The Assault On ...  bullish  \n",
      "1388  Today I bought more $MU $YHOO $VALE $NBL $TWTR...  bearish  \n",
      "1389  @h3bk11 Sounds like $FB is getting the $AAPL t...  bullish  \n",
      "1390  TV Remote Control Maker Surges On Deal With Co...  bearish  \n",
      "1391      Chanos: If i had to pick one it would be $STX  bearish  \n",
      "1392  Stocks Higher In Afternoon Trade; Intel Nears ...  bearish  \n",
      "1393  @DayTraderBio Not sure we can see too much $TS...  bullish  \n",
      "1394  $PCLN Memories: NO one Believes in Flyin' anym...  bullish  \n",
      "1395                                      $TNA In 73.24  bearish  \n",
      "\n",
      "[1396 rows x 5 columns]\n"
     ]
    }
   ],
   "source": [
    "import numpy as np\n",
    "# bullbearcount = pd.DataFrame(columns=['classes'])\n",
    "\n",
    "# for i in len(df):\n",
    "#     if df.sentiment.index(i) == 0: \n",
    "#         bullbearcount.append(\"neutral\")\n",
    "#     elif sentiment < 0: \n",
    "#         bullbearcount.append(\"bearish\")\n",
    "#     else:\n",
    "#         bullbearcount.append(\"bullish\")\n",
    "        \n",
    "# print(len(df))\n",
    "\n",
    "conditions = [\n",
    "    (df['sentiment'] == 0) , \n",
    "    (df['sentiment'] <  0) ,\n",
    "    (df['sentiment'] >  0)]\n",
    "choices = ['neutral', 'bullish', 'bearish']\n",
    "df['classes'] = np.select(conditions, choices, default='neutral')\n",
    "print(df)"
   ]
  },
  {
   "cell_type": "code",
   "execution_count": null,
   "metadata": {
    "collapsed": true
   },
   "outputs": [],
   "source": []
  },
  {
   "cell_type": "code",
   "execution_count": 4,
   "metadata": {},
   "outputs": [],
   "source": [
    "from wordcloud import WordCloud,STOPWORDS\n",
    "\n",
    "train_pos = df[ df['classes'] == 'bullish']\n",
    "train_pos = df['tweet']\n",
    "train_neg = df[ df['classes'] == 'bearish']\n",
    "train_neg = df['tweet']\n",
    "\n",
    "def wordcloud_draw(data, color = 'black'):\n",
    "    words = ' '.join(data)\n",
    "    cleaned_word = \" \".join([word for word in words.split()\n",
    "                            if 'http' not in word\n",
    "                                and not word.startswith('@')\n",
    "                                and not word.startswith('#')\n",
    "                                and upper(word) != 'RT'\n",
    "                                \n",
    "                            ])\n",
    "    wordcloud = WordCloud(stopwords=STOPWORDS,\n",
    "                      background_color=color,\n",
    "                      width=2500,\n",
    "                      height=2000\n",
    "                     ).generate(cleaned_word)\n",
    "    plt.figure(1,figsize=(13, 13))\n",
    "    plt.imshow(wordcloud)\n",
    "    plt.axis('off')\n",
    "    plt.show()\n",
    "    \n"
   ]
  },
  {
   "cell_type": "markdown",
   "metadata": {},
   "source": [
    "# Before Preprocessing"
   ]
  },
  {
   "cell_type": "code",
   "execution_count": 5,
   "metadata": {
    "scrolled": false
   },
   "outputs": [
    {
     "name": "stdout",
     "output_type": "stream",
     "text": [
      "Bullish words\n"
     ]
    },
    {
     "ename": "NameError",
     "evalue": "name 'upper' is not defined",
     "output_type": "error",
     "traceback": [
      "\u001b[1;31m---------------------------------------------------------------------------\u001b[0m",
      "\u001b[1;31mNameError\u001b[0m                                 Traceback (most recent call last)",
      "\u001b[1;32m<ipython-input-5-c759421f1591>\u001b[0m in \u001b[0;36m<module>\u001b[1;34m()\u001b[0m\n\u001b[0;32m      1\u001b[0m \u001b[0mprint\u001b[0m\u001b[1;33m(\u001b[0m\u001b[1;34m\"Bullish words\"\u001b[0m\u001b[1;33m)\u001b[0m\u001b[1;33m\u001b[0m\u001b[0m\n\u001b[1;32m----> 2\u001b[1;33m \u001b[0mwordcloud_draw\u001b[0m\u001b[1;33m(\u001b[0m\u001b[0mtrain_pos\u001b[0m\u001b[1;33m,\u001b[0m\u001b[1;34m'white'\u001b[0m\u001b[1;33m)\u001b[0m\u001b[1;33m\u001b[0m\u001b[0m\n\u001b[0m\u001b[0;32m      3\u001b[0m \u001b[0mprint\u001b[0m\u001b[1;33m(\u001b[0m\u001b[1;34m\"Bearish words\"\u001b[0m\u001b[1;33m)\u001b[0m\u001b[1;33m\u001b[0m\u001b[0m\n\u001b[0;32m      4\u001b[0m \u001b[0mwordcloud_draw\u001b[0m\u001b[1;33m(\u001b[0m\u001b[0mtrain_neg\u001b[0m\u001b[1;33m)\u001b[0m\u001b[1;33m\u001b[0m\u001b[0m\n",
      "\u001b[1;32m<ipython-input-4-14109d0a248e>\u001b[0m in \u001b[0;36mwordcloud_draw\u001b[1;34m(data, color)\u001b[0m\n\u001b[0;32m      8\u001b[0m \u001b[1;32mdef\u001b[0m \u001b[0mwordcloud_draw\u001b[0m\u001b[1;33m(\u001b[0m\u001b[0mdata\u001b[0m\u001b[1;33m,\u001b[0m \u001b[0mcolor\u001b[0m \u001b[1;33m=\u001b[0m \u001b[1;34m'black'\u001b[0m\u001b[1;33m)\u001b[0m\u001b[1;33m:\u001b[0m\u001b[1;33m\u001b[0m\u001b[0m\n\u001b[0;32m      9\u001b[0m     \u001b[0mwords\u001b[0m \u001b[1;33m=\u001b[0m \u001b[1;34m' '\u001b[0m\u001b[1;33m.\u001b[0m\u001b[0mjoin\u001b[0m\u001b[1;33m(\u001b[0m\u001b[0mdata\u001b[0m\u001b[1;33m)\u001b[0m\u001b[1;33m\u001b[0m\u001b[0m\n\u001b[1;32m---> 10\u001b[1;33m     cleaned_word = \" \".join([word for word in words.split()\n\u001b[0m\u001b[0;32m     11\u001b[0m                             \u001b[1;32mif\u001b[0m \u001b[1;34m'http'\u001b[0m \u001b[1;32mnot\u001b[0m \u001b[1;32min\u001b[0m \u001b[0mword\u001b[0m\u001b[1;33m\u001b[0m\u001b[0m\n\u001b[0;32m     12\u001b[0m                                 \u001b[1;32mand\u001b[0m \u001b[1;32mnot\u001b[0m \u001b[0mword\u001b[0m\u001b[1;33m.\u001b[0m\u001b[0mstartswith\u001b[0m\u001b[1;33m(\u001b[0m\u001b[1;34m'@'\u001b[0m\u001b[1;33m)\u001b[0m\u001b[1;33m\u001b[0m\u001b[0m\n",
      "\u001b[1;32m<ipython-input-4-14109d0a248e>\u001b[0m in \u001b[0;36m<listcomp>\u001b[1;34m(.0)\u001b[0m\n\u001b[0;32m     12\u001b[0m                                 \u001b[1;32mand\u001b[0m \u001b[1;32mnot\u001b[0m \u001b[0mword\u001b[0m\u001b[1;33m.\u001b[0m\u001b[0mstartswith\u001b[0m\u001b[1;33m(\u001b[0m\u001b[1;34m'@'\u001b[0m\u001b[1;33m)\u001b[0m\u001b[1;33m\u001b[0m\u001b[0m\n\u001b[0;32m     13\u001b[0m                                 \u001b[1;32mand\u001b[0m \u001b[1;32mnot\u001b[0m \u001b[0mword\u001b[0m\u001b[1;33m.\u001b[0m\u001b[0mstartswith\u001b[0m\u001b[1;33m(\u001b[0m\u001b[1;34m'#'\u001b[0m\u001b[1;33m)\u001b[0m\u001b[1;33m\u001b[0m\u001b[0m\n\u001b[1;32m---> 14\u001b[1;33m                                 \u001b[1;32mand\u001b[0m \u001b[0mupper\u001b[0m\u001b[1;33m(\u001b[0m\u001b[0mword\u001b[0m\u001b[1;33m)\u001b[0m \u001b[1;33m!=\u001b[0m \u001b[1;34m'RT'\u001b[0m\u001b[1;33m\u001b[0m\u001b[0m\n\u001b[0m\u001b[0;32m     15\u001b[0m \u001b[1;33m\u001b[0m\u001b[0m\n\u001b[0;32m     16\u001b[0m                             ])\n",
      "\u001b[1;31mNameError\u001b[0m: name 'upper' is not defined"
     ]
    }
   ],
   "source": [
    "print(\"Bullish words\")\n",
    "wordcloud_draw(train_pos,'white')\n",
    "print(\"Bearish words\")\n",
    "wordcloud_draw(train_neg)"
   ]
  },
  {
   "cell_type": "markdown",
   "metadata": {},
   "source": [
    "# Preprocessing of Tweets"
   ]
  },
  {
   "cell_type": "code",
   "execution_count": null,
   "metadata": {
    "collapsed": true
   },
   "outputs": [],
   "source": [
    "df['tweet'] = df['tweet'].str.lower()\n",
    "df['tweet'] = df['tweet'].str.replace('([@][\\w_-]+)', ' ', case=False)\n",
    "df['tweet'] = df['tweet'].str.replace('([$][a-z]+)', '  ', case=False)\n",
    "df['tweet'] = df['tweet'].str.replace('http\\S+|www.\\S+', ' ', case=False)"
   ]
  },
  {
   "cell_type": "code",
   "execution_count": null,
   "metadata": {
    "scrolled": true
   },
   "outputs": [],
   "source": [
    "df.head"
   ]
  },
  {
   "cell_type": "markdown",
   "metadata": {},
   "source": [
    "# Word Cloud After Preprocessing "
   ]
  },
  {
   "cell_type": "code",
   "execution_count": null,
   "metadata": {},
   "outputs": [],
   "source": [
    "new_train_pos = df[ df['classes'] == 'bullish']\n",
    "new_train_pos = df['tweet']\n",
    "new_train_neg = df[ df['classes'] == 'bearish']\n",
    "new_train_neg = df['tweet']\n",
    "\n",
    "\n",
    "print(\"Bullish words\")\n",
    "wordcloud_draw(new_train_pos,'white')\n",
    "print(\"Bearish words\")\n",
    "wordcloud_draw(new_train_neg)"
   ]
  }
 ],
 "metadata": {
  "kernelspec": {
   "display_name": "Python 3",
   "language": "python",
   "name": "python3"
  },
  "language_info": {
   "codemirror_mode": {
    "name": "ipython",
    "version": 3
   },
   "file_extension": ".py",
   "mimetype": "text/x-python",
   "name": "python",
   "nbconvert_exporter": "python",
   "pygments_lexer": "ipython3",
   "version": "3.6.3"
  }
 },
 "nbformat": 4,
 "nbformat_minor": 2
}
