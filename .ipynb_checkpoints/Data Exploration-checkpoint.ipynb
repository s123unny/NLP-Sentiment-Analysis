{
 "cells": [
  {
   "cell_type": "code",
   "execution_count": 32,
   "metadata": {
    "collapsed": true
   },
   "outputs": [],
   "source": [
    "# Import the necessary modules\n",
    "from sklearn.feature_extraction.text import CountVectorizer\n",
    "from sklearn.model_selection import train_test_split \n",
    "import pandas as pd\n",
    "\n",
    "from sklearn.metrics import f1_score\n",
    "from sklearn.metrics import mean_squared_error\n",
    "\n",
    "\n",
    "\n",
    "import matplotlib.pyplot as plt\n",
    "from matplotlib import style\n",
    "\n",
    "# Adjusting the size of matplotlib\n",
    "import matplotlib as mpl\n",
    "mpl.rc('figure', figsize=(8, 7))\n",
    "mpl.__version__\n",
    "\n",
    "# Adjusting the style of matplotlib\n",
    "style.use('ggplot')\n",
    "\n",
    "# Magic to tell python notebook we want matplotlib charts included\n",
    "%matplotlib inline"
   ]
  },
  {
   "cell_type": "code",
   "execution_count": 33,
   "metadata": {
    "collapsed": true
   },
   "outputs": [],
   "source": [
    "df = pd.read_json(\"training_set.json\")"
   ]
  },
  {
   "cell_type": "code",
   "execution_count": 34,
   "metadata": {},
   "outputs": [
    {
     "data": {
      "text/html": [
       "<div>\n",
       "<style>\n",
       "    .dataframe thead tr:only-child th {\n",
       "        text-align: right;\n",
       "    }\n",
       "\n",
       "    .dataframe thead th {\n",
       "        text-align: left;\n",
       "    }\n",
       "\n",
       "    .dataframe tbody tr th {\n",
       "        vertical-align: top;\n",
       "    }\n",
       "</style>\n",
       "<table border=\"1\" class=\"dataframe\">\n",
       "  <thead>\n",
       "    <tr style=\"text-align: right;\">\n",
       "      <th></th>\n",
       "      <th>sentiment</th>\n",
       "      <th>snippet</th>\n",
       "      <th>target</th>\n",
       "      <th>tweet</th>\n",
       "    </tr>\n",
       "  </thead>\n",
       "  <tbody>\n",
       "    <tr>\n",
       "      <th>0</th>\n",
       "      <td>-0.463</td>\n",
       "      <td>downgrade</td>\n",
       "      <td>$PCAR</td>\n",
       "      <td>downgrades $SON $ARI $GG $FLTX $WMC $MFA $IVR ...</td>\n",
       "    </tr>\n",
       "    <tr>\n",
       "      <th>1</th>\n",
       "      <td>0.678</td>\n",
       "      <td>[looking sexy this morning, break on volume]</td>\n",
       "      <td>$AMZN</td>\n",
       "      <td>$AMZN looking sexy this morning...$600 break o...</td>\n",
       "    </tr>\n",
       "    <tr>\n",
       "      <th>2</th>\n",
       "      <td>0.377</td>\n",
       "      <td>still long term fan!</td>\n",
       "      <td>$SBUX</td>\n",
       "      <td>@GerberKawasaki stock hasn't moved much since ...</td>\n",
       "    </tr>\n",
       "    <tr>\n",
       "      <th>3</th>\n",
       "      <td>0.129</td>\n",
       "      <td>$TFM will have a way to go price wise to compe...</td>\n",
       "      <td>$KR</td>\n",
       "      <td>Whole foods $WFM may feel price competition bu...</td>\n",
       "    </tr>\n",
       "    <tr>\n",
       "      <th>4</th>\n",
       "      <td>0.395</td>\n",
       "      <td>iPhone SE Could Be Doing Better Than Expected</td>\n",
       "      <td>$AAPL</td>\n",
       "      <td>Apple's iPhone SE Could Be Doing Better Than E...</td>\n",
       "    </tr>\n",
       "  </tbody>\n",
       "</table>\n",
       "</div>"
      ],
      "text/plain": [
       "   sentiment                                            snippet target  \\\n",
       "0     -0.463                                          downgrade  $PCAR   \n",
       "1      0.678       [looking sexy this morning, break on volume]  $AMZN   \n",
       "2      0.377                               still long term fan!  $SBUX   \n",
       "3      0.129  $TFM will have a way to go price wise to compe...    $KR   \n",
       "4      0.395      iPhone SE Could Be Doing Better Than Expected  $AAPL   \n",
       "\n",
       "                                               tweet  \n",
       "0  downgrades $SON $ARI $GG $FLTX $WMC $MFA $IVR ...  \n",
       "1  $AMZN looking sexy this morning...$600 break o...  \n",
       "2  @GerberKawasaki stock hasn't moved much since ...  \n",
       "3  Whole foods $WFM may feel price competition bu...  \n",
       "4  Apple's iPhone SE Could Be Doing Better Than E...  "
      ]
     },
     "execution_count": 34,
     "metadata": {},
     "output_type": "execute_result"
    }
   ],
   "source": [
    "df.head()"
   ]
  },
  {
   "cell_type": "code",
   "execution_count": 35,
   "metadata": {},
   "outputs": [
    {
     "data": {
      "text/plain": [
       "<matplotlib.axes._subplots.AxesSubplot at 0x21c44ab4710>"
      ]
     },
     "execution_count": 35,
     "metadata": {},
     "output_type": "execute_result"
    },
    {
     "data": {
      "image/png": "[encoded data removed]",
      "text/plain": [
       "<matplotlib.figure.Figure at 0x21c44aaa7f0>"
      ]
     },
     "metadata": {},
     "output_type": "display_data"
    }
   ],
   "source": [
    "df.sentiment.hist()"
   ]
  },
  {
   "cell_type": "code",
   "execution_count": 36,
   "metadata": {},
   "outputs": [
    {
     "name": "stdout",
     "output_type": "stream",
     "text": [
      "\n"
     ]
    }
   ],
   "source": [
    "df['target'].value_counts(dropna=False)\n",
    "print()"
   ]
  },
  {
   "cell_type": "code",
   "execution_count": 37,
   "metadata": {},
   "outputs": [
    {
     "name": "stdout",
     "output_type": "stream",
     "text": [
      "<class 'pandas.core.frame.DataFrame'>\n",
      "RangeIndex: 1396 entries, 0 to 1395\n",
      "Data columns (total 4 columns):\n",
      "sentiment    1396 non-null float64\n",
      "snippet      1396 non-null object\n",
      "target       1396 non-null object\n",
      "tweet        1396 non-null object\n",
      "dtypes: float64(1), object(3)\n",
      "memory usage: 43.7+ KB\n"
     ]
    }
   ],
   "source": [
    "#checking for missing values\n",
    "df.info()"
   ]
  },
  {
   "cell_type": "code",
   "execution_count": 38,
   "metadata": {},
   "outputs": [
    {
     "data": {
      "text/plain": [
       "Index(['sentiment', 'snippet', 'target', 'tweet'], dtype='object')"
      ]
     },
     "execution_count": 38,
     "metadata": {},
     "output_type": "execute_result"
    }
   ],
   "source": [
    "df.columns"
   ]
  },
  {
   "cell_type": "markdown",
   "metadata": {},
   "source": [
    "## Attempt 1 to Train Model\n",
    "#### without stemming, cleaning or any other cleaning to text processing. \n"
   ]
  },
  {
   "cell_type": "code",
   "execution_count": 43,
   "metadata": {},
   "outputs": [],
   "source": [
    "#create a series to store the sentiment (score) : y \n",
    "\n",
    "y = df.sentiment\n",
    "\n",
    "#Create new training and test sets. \n",
    "#The reason behind this is to craete another Test and Train \n",
    "#- then use it as a form of validation before scoring\n",
    "\n",
    "\n",
    "# Create training and test sets\n",
    "X_train, X_test, y_train, y_test = train_test_split( df[\"tweet\"] , y, test_size=0.33, random_state=53 )\n",
    "#print(X_train, X_test, y_train, y_test)"
   ]
  },
  {
   "cell_type": "code",
   "execution_count": 44,
   "metadata": {},
   "outputs": [
    {
     "name": "stdout",
     "output_type": "stream",
     "text": [
      "CountVectorizer(analyzer='word', binary=False, decode_error='strict',\n",
      "        dtype=<class 'numpy.int64'>, encoding='utf-8', input='content',\n",
      "        lowercase=True, max_df=1.0, max_features=None, min_df=1,\n",
      "        ngram_range=(1, 1), preprocessor=None, stop_words='english',\n",
      "        strip_accents=None, token_pattern='(?u)\\\\b\\\\w\\\\w+\\\\b',\n",
      "        tokenizer=None, vocabulary=None)\n"
     ]
    }
   ],
   "source": [
    "# Initialize a CountVectorizer object: count_vectorizer\n",
    "count_vectorizer = CountVectorizer(stop_words=\"english\")\n",
    "print(count_vectorizer)"
   ]
  },
  {
   "cell_type": "code",
   "execution_count": 45,
   "metadata": {},
   "outputs": [
    {
     "name": "stdout",
     "output_type": "stream",
     "text": [
      "['00', '000', '01', '02', '025', '03', '04', '05', '05b', '06']\n"
     ]
    }
   ],
   "source": [
    "# Transform the training data using only the 'text' column values: count_train \n",
    "count_train = count_vectorizer.fit_transform(X_train)\n",
    "\n",
    "# Transform the test data using only the 'text' column values: count_test \n",
    "count_test = count_vectorizer.transform(X_test)\n",
    "\n",
    "# Print the first 10 features of the count_vectorizer\n",
    "print(count_vectorizer.get_feature_names()[:10])"
   ]
  },
  {
   "cell_type": "code",
   "execution_count": 46,
   "metadata": {},
   "outputs": [
    {
     "name": "stdout",
     "output_type": "stream",
     "text": [
      "['00', '000', '01', '02', '025', '03', '04', '05', '05b', '06']\n",
      "[[ 0.  0.  0. ...,  0.  0.  0.]\n",
      " [ 0.  0.  0. ...,  0.  0.  0.]\n",
      " [ 0.  0.  0. ...,  0.  0.  0.]\n",
      " [ 0.  0.  0. ...,  0.  0.  0.]\n",
      " [ 0.  0.  0. ...,  0.  0.  0.]]\n"
     ]
    }
   ],
   "source": [
    "# Import TfidfVectorizer\n",
    "from sklearn.feature_extraction.text import TfidfVectorizer\n",
    "\n",
    "# Initialize a TfidfVectorizer object: tfidf_vectorizer\n",
    "tfidf_vectorizer = TfidfVectorizer(stop_words=\"english\", max_df=0.7)\n",
    "\n",
    "# Transform the training data: tfidf_train \n",
    "tfidf_train = tfidf_vectorizer.fit_transform(X_train)\n",
    "\n",
    "# Transform the test data: tfidf_test \n",
    "tfidf_test = tfidf_vectorizer.transform(X_test)\n",
    "\n",
    "# Print the first 10 features\n",
    "print(tfidf_vectorizer.get_feature_names()[:10])\n",
    "\n",
    "# Print the first 5 vectors of the tfidf training data\n",
    "print(tfidf_train.A[:5])"
   ]
  },
  {
   "cell_type": "code",
   "execution_count": 47,
   "metadata": {},
   "outputs": [
    {
     "name": "stdout",
     "output_type": "stream",
     "text": [
      "     00  000  01  02  025  03  04  05  05b  06  ...   zolio  zone  zortrades  \\\n",
      "0     0    0   0   0    0   0   0   0    0   0  ...       0     0          0   \n",
      "1     0    0   0   0    0   0   0   0    0   0  ...       0     0          0   \n",
      "2     0    0   0   0    0   0   0   0    0   0  ...       0     0          0   \n",
      "3     0    0   0   0    0   0   0   0    0   0  ...       0     0          0   \n",
      "4     0    0   0   0    0   0   0   0    0   0  ...       0     0          0   \n",
      "5     0    0   0   0    0   0   0   0    0   0  ...       0     0          0   \n",
      "6     0    0   0   0    0   0   0   0    0   2  ...       0     0          0   \n",
      "7     0    0   0   0    0   0   0   0    0   0  ...       0     0          0   \n",
      "8     0    0   0   0    0   0   0   0    0   0  ...       0     0          0   \n",
      "9     0    0   0   0    0   0   0   0    0   0  ...       0     0          0   \n",
      "10    0    0   0   0    0   0   0   0    0   0  ...       0     0          0   \n",
      "11    0    0   0   0    0   0   0   0    0   0  ...       0     0          0   \n",
      "12    0    0   0   0    0   0   0   0    0   0  ...       0     0          0   \n",
      "13    0    0   0   0    0   0   0   0    0   0  ...       0     0          0   \n",
      "14    0    0   0   0    0   0   0   0    0   0  ...       0     0          0   \n",
      "15    0    0   0   0    0   0   0   0    0   0  ...       0     0          0   \n",
      "16    0    0   0   0    0   0   0   0    0   0  ...       0     0          0   \n",
      "17    0    0   0   0    0   0   0   0    0   0  ...       0     0          0   \n",
      "18    0    0   0   0    0   0   0   0    0   0  ...       0     0          0   \n",
      "19    0    0   0   0    0   0   0   0    0   0  ...       0     0          0   \n",
      "20    0    0   0   0    0   0   0   0    0   0  ...       0     0          0   \n",
      "21    0    0   0   0    0   0   0   0    0   0  ...       0     0          0   \n",
      "22    0    0   0   0    0   0   0   0    0   0  ...       0     0          0   \n",
      "23    0    0   0   0    0   0   0   0    0   0  ...       0     0          0   \n",
      "24    0    0   0   0    0   0   0   0    0   0  ...       0     0          0   \n",
      "25    0    0   0   0    0   0   0   0    0   0  ...       0     0          0   \n",
      "26    0    0   0   0    0   0   0   0    0   0  ...       0     0          0   \n",
      "27    0    0   0   0    0   0   0   0    0   0  ...       0     0          0   \n",
      "28    0    0   0   0    0   0   0   0    0   0  ...       0     0          0   \n",
      "29    0    0   0   0    0   0   0   0    0   0  ...       0     0          0   \n",
      "..   ..  ...  ..  ..  ...  ..  ..  ..  ...  ..  ...     ...   ...        ...   \n",
      "905   0    0   0   0    0   0   0   0    0   0  ...       0     0          0   \n",
      "906   0    1   0   0    0   0   0   0    0   0  ...       0     0          0   \n",
      "907   0    0   0   0    0   0   0   0    0   0  ...       0     0          0   \n",
      "908   0    0   0   0    0   0   0   0    0   0  ...       0     0          0   \n",
      "909   0    0   0   0    0   0   0   0    0   0  ...       0     0          0   \n",
      "910   0    0   0   0    0   0   0   0    0   0  ...       0     0          0   \n",
      "911   0    0   0   0    0   1   0   0    0   0  ...       0     0          0   \n",
      "912   0    0   0   0    0   0   0   0    0   0  ...       0     0          0   \n",
      "913   0    0   0   0    0   0   0   0    0   0  ...       0     0          0   \n",
      "914   0    0   0   0    0   0   0   0    0   0  ...       0     0          0   \n",
      "915   0    0   0   0    0   0   0   0    0   0  ...       0     0          0   \n",
      "916   0    0   0   0    0   0   0   0    0   0  ...       0     0          0   \n",
      "917   0    0   0   0    0   0   0   0    0   0  ...       0     0          0   \n",
      "918   0    0   0   0    0   0   0   0    0   0  ...       0     0          0   \n",
      "919   0    0   0   0    0   0   0   0    0   0  ...       0     0          0   \n",
      "920   0    0   0   0    0   0   0   0    0   0  ...       0     0          0   \n",
      "921   0    0   0   0    0   0   0   0    0   0  ...       0     0          0   \n",
      "922   0    0   0   0    0   0   0   0    0   0  ...       0     0          0   \n",
      "923   0    0   0   0    0   0   0   0    0   0  ...       0     0          0   \n",
      "924   0    0   0   0    0   0   0   0    0   0  ...       0     0          0   \n",
      "925   0    0   0   0    0   0   0   0    0   0  ...       0     0          0   \n",
      "926   0    0   0   0    0   0   0   0    0   0  ...       0     0          0   \n",
      "927   0    0   0   0    0   0   0   0    0   0  ...       0     0          0   \n",
      "928   0    0   0   0    0   0   0   0    0   0  ...       0     0          0   \n",
      "929   0    0   0   0    0   0   0   0    0   0  ...       0     0          0   \n",
      "930   0    0   0   0    0   0   0   0    0   0  ...       0     0          0   \n",
      "931   0    0   0   0    0   0   0   0    0   0  ...       0     0          0   \n",
      "932   0    0   0   0    0   0   0   0    0   0  ...       0     0          0   \n",
      "933   0    0   0   0    0   0   0   0    0   0  ...       0     0          0   \n",
      "934   0    0   0   0    0   0   0   0    0   0  ...       0     0          0   \n",
      "\n",
      "     zsg  zticvyqtx7  zts  ztsz96ungo  zuck  zuckerberg  zyne  \n",
      "0      0           0    0           0     0           0     0  \n",
      "1      0           0    0           0     0           0     0  \n",
      "2      0           0    0           0     0           0     0  \n",
      "3      0           0    0           0     0           0     0  \n",
      "4      0           0    0           0     0           0     0  \n",
      "5      0           0    0           0     0           0     0  \n",
      "6      0           0    0           0     0           0     0  \n",
      "7      0           0    0           0     0           0     0  \n",
      "8      0           0    0           0     0           0     0  \n",
      "9      0           0    0           0     0           0     0  \n",
      "10     0           0    0           0     0           0     0  \n",
      "11     0           0    0           0     0           0     0  \n",
      "12     0           0    0           0     0           0     0  \n",
      "13     0           1    0           0     0           0     0  \n",
      "14     0           0    0           0     0           0     0  \n",
      "15     0           0    0           0     0           0     0  \n",
      "16     0           0    0           0     0           0     0  \n",
      "17     0           0    0           0     0           0     0  \n",
      "18     0           0    0           0     0           0     0  \n",
      "19     0           0    0           0     0           0     0  \n",
      "20     0           0    0           0     0           0     0  \n",
      "21     0           0    0           0     0           0     0  \n",
      "22     0           0    0           0     0           0     0  \n",
      "23     0           0    0           0     0           0     0  \n",
      "24     0           0    0           0     0           0     0  \n",
      "25     0           0    0           0     0           0     0  \n",
      "26     0           0    0           0     0           0     0  \n",
      "27     0           0    0           0     0           0     0  \n",
      "28     0           0    0           0     0           0     0  \n",
      "29     0           0    0           0     0           0     0  \n",
      "..   ...         ...  ...         ...   ...         ...   ...  \n",
      "905    0           0    0           0     0           0     0  \n",
      "906    0           0    0           0     0           0     0  \n",
      "907    0           0    0           0     0           0     0  \n",
      "908    0           0    0           0     0           0     0  \n",
      "909    0           0    0           0     0           0     0  \n",
      "910    0           0    0           0     0           0     0  \n",
      "911    0           0    0           0     0           0     0  \n",
      "912    0           0    0           0     0           0     0  \n",
      "913    0           0    0           0     0           0     0  \n",
      "914    0           0    0           0     0           0     0  \n",
      "915    0           0    0           0     0           0     0  \n",
      "916    0           0    0           0     0           0     0  \n",
      "917    0           0    0           0     0           0     0  \n",
      "918    0           0    0           1     0           0     0  \n",
      "919    0           0    0           0     0           0     0  \n",
      "920    0           0    0           0     0           0     1  \n",
      "921    0           0    0           0     0           0     0  \n",
      "922    0           0    0           0     0           0     0  \n",
      "923    0           0    0           0     0           0     0  \n",
      "924    0           0    0           0     0           0     0  \n",
      "925    0           0    0           0     0           0     0  \n",
      "926    0           0    0           0     0           0     0  \n",
      "927    0           0    0           0     0           0     0  \n",
      "928    0           0    0           0     0           0     0  \n",
      "929    0           0    0           0     0           0     0  \n",
      "930    0           0    0           0     0           0     0  \n",
      "931    0           0    0           0     0           0     0  \n",
      "932    0           0    0           0     0           0     0  \n",
      "933    0           0    0           0     0           0     0  \n",
      "934    0           0    0           0     0           0     0  \n",
      "\n",
      "[935 rows x 3554 columns]\n",
      "      00       000   01   02  025        03   04   05  05b        06  \\\n",
      "0    0.0  0.000000  0.0  0.0  0.0  0.000000  0.0  0.0  0.0  0.000000   \n",
      "1    0.0  0.000000  0.0  0.0  0.0  0.000000  0.0  0.0  0.0  0.000000   \n",
      "2    0.0  0.000000  0.0  0.0  0.0  0.000000  0.0  0.0  0.0  0.000000   \n",
      "3    0.0  0.000000  0.0  0.0  0.0  0.000000  0.0  0.0  0.0  0.000000   \n",
      "4    0.0  0.000000  0.0  0.0  0.0  0.000000  0.0  0.0  0.0  0.000000   \n",
      "5    0.0  0.000000  0.0  0.0  0.0  0.000000  0.0  0.0  0.0  0.000000   \n",
      "6    0.0  0.000000  0.0  0.0  0.0  0.000000  0.0  0.0  0.0  0.461302   \n",
      "7    0.0  0.000000  0.0  0.0  0.0  0.000000  0.0  0.0  0.0  0.000000   \n",
      "8    0.0  0.000000  0.0  0.0  0.0  0.000000  0.0  0.0  0.0  0.000000   \n",
      "9    0.0  0.000000  0.0  0.0  0.0  0.000000  0.0  0.0  0.0  0.000000   \n",
      "10   0.0  0.000000  0.0  0.0  0.0  0.000000  0.0  0.0  0.0  0.000000   \n",
      "11   0.0  0.000000  0.0  0.0  0.0  0.000000  0.0  0.0  0.0  0.000000   \n",
      "12   0.0  0.000000  0.0  0.0  0.0  0.000000  0.0  0.0  0.0  0.000000   \n",
      "13   0.0  0.000000  0.0  0.0  0.0  0.000000  0.0  0.0  0.0  0.000000   \n",
      "14   0.0  0.000000  0.0  0.0  0.0  0.000000  0.0  0.0  0.0  0.000000   \n",
      "15   0.0  0.000000  0.0  0.0  0.0  0.000000  0.0  0.0  0.0  0.000000   \n",
      "16   0.0  0.000000  0.0  0.0  0.0  0.000000  0.0  0.0  0.0  0.000000   \n",
      "17   0.0  0.000000  0.0  0.0  0.0  0.000000  0.0  0.0  0.0  0.000000   \n",
      "18   0.0  0.000000  0.0  0.0  0.0  0.000000  0.0  0.0  0.0  0.000000   \n",
      "19   0.0  0.000000  0.0  0.0  0.0  0.000000  0.0  0.0  0.0  0.000000   \n",
      "20   0.0  0.000000  0.0  0.0  0.0  0.000000  0.0  0.0  0.0  0.000000   \n",
      "21   0.0  0.000000  0.0  0.0  0.0  0.000000  0.0  0.0  0.0  0.000000   \n",
      "22   0.0  0.000000  0.0  0.0  0.0  0.000000  0.0  0.0  0.0  0.000000   \n",
      "23   0.0  0.000000  0.0  0.0  0.0  0.000000  0.0  0.0  0.0  0.000000   \n",
      "24   0.0  0.000000  0.0  0.0  0.0  0.000000  0.0  0.0  0.0  0.000000   \n",
      "25   0.0  0.000000  0.0  0.0  0.0  0.000000  0.0  0.0  0.0  0.000000   \n",
      "26   0.0  0.000000  0.0  0.0  0.0  0.000000  0.0  0.0  0.0  0.000000   \n",
      "27   0.0  0.000000  0.0  0.0  0.0  0.000000  0.0  0.0  0.0  0.000000   \n",
      "28   0.0  0.000000  0.0  0.0  0.0  0.000000  0.0  0.0  0.0  0.000000   \n",
      "29   0.0  0.000000  0.0  0.0  0.0  0.000000  0.0  0.0  0.0  0.000000   \n",
      "..   ...       ...  ...  ...  ...       ...  ...  ...  ...       ...   \n",
      "905  0.0  0.000000  0.0  0.0  0.0  0.000000  0.0  0.0  0.0  0.000000   \n",
      "906  0.0  0.529143  0.0  0.0  0.0  0.000000  0.0  0.0  0.0  0.000000   \n",
      "907  0.0  0.000000  0.0  0.0  0.0  0.000000  0.0  0.0  0.0  0.000000   \n",
      "908  0.0  0.000000  0.0  0.0  0.0  0.000000  0.0  0.0  0.0  0.000000   \n",
      "909  0.0  0.000000  0.0  0.0  0.0  0.000000  0.0  0.0  0.0  0.000000   \n",
      "910  0.0  0.000000  0.0  0.0  0.0  0.000000  0.0  0.0  0.0  0.000000   \n",
      "911  0.0  0.000000  0.0  0.0  0.0  0.252061  0.0  0.0  0.0  0.000000   \n",
      "912  0.0  0.000000  0.0  0.0  0.0  0.000000  0.0  0.0  0.0  0.000000   \n",
      "913  0.0  0.000000  0.0  0.0  0.0  0.000000  0.0  0.0  0.0  0.000000   \n",
      "914  0.0  0.000000  0.0  0.0  0.0  0.000000  0.0  0.0  0.0  0.000000   \n",
      "915  0.0  0.000000  0.0  0.0  0.0  0.000000  0.0  0.0  0.0  0.000000   \n",
      "916  0.0  0.000000  0.0  0.0  0.0  0.000000  0.0  0.0  0.0  0.000000   \n",
      "917  0.0  0.000000  0.0  0.0  0.0  0.000000  0.0  0.0  0.0  0.000000   \n",
      "918  0.0  0.000000  0.0  0.0  0.0  0.000000  0.0  0.0  0.0  0.000000   \n",
      "919  0.0  0.000000  0.0  0.0  0.0  0.000000  0.0  0.0  0.0  0.000000   \n",
      "920  0.0  0.000000  0.0  0.0  0.0  0.000000  0.0  0.0  0.0  0.000000   \n",
      "921  0.0  0.000000  0.0  0.0  0.0  0.000000  0.0  0.0  0.0  0.000000   \n",
      "922  0.0  0.000000  0.0  0.0  0.0  0.000000  0.0  0.0  0.0  0.000000   \n",
      "923  0.0  0.000000  0.0  0.0  0.0  0.000000  0.0  0.0  0.0  0.000000   \n",
      "924  0.0  0.000000  0.0  0.0  0.0  0.000000  0.0  0.0  0.0  0.000000   \n",
      "925  0.0  0.000000  0.0  0.0  0.0  0.000000  0.0  0.0  0.0  0.000000   \n",
      "926  0.0  0.000000  0.0  0.0  0.0  0.000000  0.0  0.0  0.0  0.000000   \n",
      "927  0.0  0.000000  0.0  0.0  0.0  0.000000  0.0  0.0  0.0  0.000000   \n",
      "928  0.0  0.000000  0.0  0.0  0.0  0.000000  0.0  0.0  0.0  0.000000   \n",
      "929  0.0  0.000000  0.0  0.0  0.0  0.000000  0.0  0.0  0.0  0.000000   \n",
      "930  0.0  0.000000  0.0  0.0  0.0  0.000000  0.0  0.0  0.0  0.000000   \n",
      "931  0.0  0.000000  0.0  0.0  0.0  0.000000  0.0  0.0  0.0  0.000000   \n",
      "932  0.0  0.000000  0.0  0.0  0.0  0.000000  0.0  0.0  0.0  0.000000   \n",
      "933  0.0  0.000000  0.0  0.0  0.0  0.000000  0.0  0.0  0.0  0.000000   \n",
      "934  0.0  0.000000  0.0  0.0  0.0  0.000000  0.0  0.0  0.0  0.000000   \n",
      "\n",
      "       ...     zolio  zone  zortrades  zsg  zticvyqtx7  zts  ztsz96ungo  zuck  \\\n",
      "0      ...       0.0   0.0        0.0  0.0    0.000000  0.0     0.00000   0.0   \n",
      "1      ...       0.0   0.0        0.0  0.0    0.000000  0.0     0.00000   0.0   \n",
      "2      ...       0.0   0.0        0.0  0.0    0.000000  0.0     0.00000   0.0   \n",
      "3      ...       0.0   0.0        0.0  0.0    0.000000  0.0     0.00000   0.0   \n",
      "4      ...       0.0   0.0        0.0  0.0    0.000000  0.0     0.00000   0.0   \n",
      "5      ...       0.0   0.0        0.0  0.0    0.000000  0.0     0.00000   0.0   \n",
      "6      ...       0.0   0.0        0.0  0.0    0.000000  0.0     0.00000   0.0   \n",
      "7      ...       0.0   0.0        0.0  0.0    0.000000  0.0     0.00000   0.0   \n",
      "8      ...       0.0   0.0        0.0  0.0    0.000000  0.0     0.00000   0.0   \n",
      "9      ...       0.0   0.0        0.0  0.0    0.000000  0.0     0.00000   0.0   \n",
      "10     ...       0.0   0.0        0.0  0.0    0.000000  0.0     0.00000   0.0   \n",
      "11     ...       0.0   0.0        0.0  0.0    0.000000  0.0     0.00000   0.0   \n",
      "12     ...       0.0   0.0        0.0  0.0    0.000000  0.0     0.00000   0.0   \n",
      "13     ...       0.0   0.0        0.0  0.0    0.284284  0.0     0.00000   0.0   \n",
      "14     ...       0.0   0.0        0.0  0.0    0.000000  0.0     0.00000   0.0   \n",
      "15     ...       0.0   0.0        0.0  0.0    0.000000  0.0     0.00000   0.0   \n",
      "16     ...       0.0   0.0        0.0  0.0    0.000000  0.0     0.00000   0.0   \n",
      "17     ...       0.0   0.0        0.0  0.0    0.000000  0.0     0.00000   0.0   \n",
      "18     ...       0.0   0.0        0.0  0.0    0.000000  0.0     0.00000   0.0   \n",
      "19     ...       0.0   0.0        0.0  0.0    0.000000  0.0     0.00000   0.0   \n",
      "20     ...       0.0   0.0        0.0  0.0    0.000000  0.0     0.00000   0.0   \n",
      "21     ...       0.0   0.0        0.0  0.0    0.000000  0.0     0.00000   0.0   \n",
      "22     ...       0.0   0.0        0.0  0.0    0.000000  0.0     0.00000   0.0   \n",
      "23     ...       0.0   0.0        0.0  0.0    0.000000  0.0     0.00000   0.0   \n",
      "24     ...       0.0   0.0        0.0  0.0    0.000000  0.0     0.00000   0.0   \n",
      "25     ...       0.0   0.0        0.0  0.0    0.000000  0.0     0.00000   0.0   \n",
      "26     ...       0.0   0.0        0.0  0.0    0.000000  0.0     0.00000   0.0   \n",
      "27     ...       0.0   0.0        0.0  0.0    0.000000  0.0     0.00000   0.0   \n",
      "28     ...       0.0   0.0        0.0  0.0    0.000000  0.0     0.00000   0.0   \n",
      "29     ...       0.0   0.0        0.0  0.0    0.000000  0.0     0.00000   0.0   \n",
      "..     ...       ...   ...        ...  ...         ...  ...         ...   ...   \n",
      "905    ...       0.0   0.0        0.0  0.0    0.000000  0.0     0.00000   0.0   \n",
      "906    ...       0.0   0.0        0.0  0.0    0.000000  0.0     0.00000   0.0   \n",
      "907    ...       0.0   0.0        0.0  0.0    0.000000  0.0     0.00000   0.0   \n",
      "908    ...       0.0   0.0        0.0  0.0    0.000000  0.0     0.00000   0.0   \n",
      "909    ...       0.0   0.0        0.0  0.0    0.000000  0.0     0.00000   0.0   \n",
      "910    ...       0.0   0.0        0.0  0.0    0.000000  0.0     0.00000   0.0   \n",
      "911    ...       0.0   0.0        0.0  0.0    0.000000  0.0     0.00000   0.0   \n",
      "912    ...       0.0   0.0        0.0  0.0    0.000000  0.0     0.00000   0.0   \n",
      "913    ...       0.0   0.0        0.0  0.0    0.000000  0.0     0.00000   0.0   \n",
      "914    ...       0.0   0.0        0.0  0.0    0.000000  0.0     0.00000   0.0   \n",
      "915    ...       0.0   0.0        0.0  0.0    0.000000  0.0     0.00000   0.0   \n",
      "916    ...       0.0   0.0        0.0  0.0    0.000000  0.0     0.00000   0.0   \n",
      "917    ...       0.0   0.0        0.0  0.0    0.000000  0.0     0.00000   0.0   \n",
      "918    ...       0.0   0.0        0.0  0.0    0.000000  0.0     0.29541   0.0   \n",
      "919    ...       0.0   0.0        0.0  0.0    0.000000  0.0     0.00000   0.0   \n",
      "920    ...       0.0   0.0        0.0  0.0    0.000000  0.0     0.00000   0.0   \n",
      "921    ...       0.0   0.0        0.0  0.0    0.000000  0.0     0.00000   0.0   \n",
      "922    ...       0.0   0.0        0.0  0.0    0.000000  0.0     0.00000   0.0   \n",
      "923    ...       0.0   0.0        0.0  0.0    0.000000  0.0     0.00000   0.0   \n",
      "924    ...       0.0   0.0        0.0  0.0    0.000000  0.0     0.00000   0.0   \n",
      "925    ...       0.0   0.0        0.0  0.0    0.000000  0.0     0.00000   0.0   \n",
      "926    ...       0.0   0.0        0.0  0.0    0.000000  0.0     0.00000   0.0   \n",
      "927    ...       0.0   0.0        0.0  0.0    0.000000  0.0     0.00000   0.0   \n",
      "928    ...       0.0   0.0        0.0  0.0    0.000000  0.0     0.00000   0.0   \n",
      "929    ...       0.0   0.0        0.0  0.0    0.000000  0.0     0.00000   0.0   \n",
      "930    ...       0.0   0.0        0.0  0.0    0.000000  0.0     0.00000   0.0   \n",
      "931    ...       0.0   0.0        0.0  0.0    0.000000  0.0     0.00000   0.0   \n",
      "932    ...       0.0   0.0        0.0  0.0    0.000000  0.0     0.00000   0.0   \n",
      "933    ...       0.0   0.0        0.0  0.0    0.000000  0.0     0.00000   0.0   \n",
      "934    ...       0.0   0.0        0.0  0.0    0.000000  0.0     0.00000   0.0   \n",
      "\n",
      "     zuckerberg      zyne  \n",
      "0           0.0  0.000000  \n",
      "1           0.0  0.000000  \n",
      "2           0.0  0.000000  \n",
      "3           0.0  0.000000  \n",
      "4           0.0  0.000000  \n",
      "5           0.0  0.000000  \n",
      "6           0.0  0.000000  \n",
      "7           0.0  0.000000  \n",
      "8           0.0  0.000000  \n",
      "9           0.0  0.000000  \n",
      "10          0.0  0.000000  \n",
      "11          0.0  0.000000  \n",
      "12          0.0  0.000000  \n",
      "13          0.0  0.000000  \n",
      "14          0.0  0.000000  \n",
      "15          0.0  0.000000  \n",
      "16          0.0  0.000000  \n",
      "17          0.0  0.000000  \n",
      "18          0.0  0.000000  \n",
      "19          0.0  0.000000  \n",
      "20          0.0  0.000000  \n",
      "21          0.0  0.000000  \n",
      "22          0.0  0.000000  \n",
      "23          0.0  0.000000  \n",
      "24          0.0  0.000000  \n",
      "25          0.0  0.000000  \n",
      "26          0.0  0.000000  \n",
      "27          0.0  0.000000  \n",
      "28          0.0  0.000000  \n",
      "29          0.0  0.000000  \n",
      "..          ...       ...  \n",
      "905         0.0  0.000000  \n",
      "906         0.0  0.000000  \n",
      "907         0.0  0.000000  \n",
      "908         0.0  0.000000  \n",
      "909         0.0  0.000000  \n",
      "910         0.0  0.000000  \n",
      "911         0.0  0.000000  \n",
      "912         0.0  0.000000  \n",
      "913         0.0  0.000000  \n",
      "914         0.0  0.000000  \n",
      "915         0.0  0.000000  \n",
      "916         0.0  0.000000  \n",
      "917         0.0  0.000000  \n",
      "918         0.0  0.000000  \n",
      "919         0.0  0.000000  \n",
      "920         0.0  0.232332  \n",
      "921         0.0  0.000000  \n",
      "922         0.0  0.000000  \n",
      "923         0.0  0.000000  \n",
      "924         0.0  0.000000  \n",
      "925         0.0  0.000000  \n",
      "926         0.0  0.000000  \n",
      "927         0.0  0.000000  \n",
      "928         0.0  0.000000  \n",
      "929         0.0  0.000000  \n",
      "930         0.0  0.000000  \n",
      "931         0.0  0.000000  \n",
      "932         0.0  0.000000  \n",
      "933         0.0  0.000000  \n",
      "934         0.0  0.000000  \n",
      "\n",
      "[935 rows x 3554 columns]\n"
     ]
    }
   ],
   "source": [
    "# Create the CountVectorizer DataFrame: count_df\n",
    "count_df = pd.DataFrame(count_train.A, columns=count_vectorizer.get_feature_names())\n",
    "print(count_df)\n",
    "# Create the TfidfVectorizer DataFrame: tfidf_df\n",
    "tfidf_df = pd.DataFrame(tfidf_train.A, columns=tfidf_vectorizer.get_feature_names())\n",
    "print(tfidf_df)"
   ]
  },
  {
   "cell_type": "code",
   "execution_count": 48,
   "metadata": {},
   "outputs": [
    {
     "name": "stdout",
     "output_type": "stream",
     "text": [
      "   00  000  01  02  025  03  04  05  05b  06  ...   zolio  zone  zortrades  \\\n",
      "0   0    0   0   0    0   0   0   0    0   0  ...       0     0          0   \n",
      "1   0    0   0   0    0   0   0   0    0   0  ...       0     0          0   \n",
      "2   0    0   0   0    0   0   0   0    0   0  ...       0     0          0   \n",
      "3   0    0   0   0    0   0   0   0    0   0  ...       0     0          0   \n",
      "4   0    0   0   0    0   0   0   0    0   0  ...       0     0          0   \n",
      "\n",
      "   zsg  zticvyqtx7  zts  ztsz96ungo  zuck  zuckerberg  zyne  \n",
      "0    0           0    0           0     0           0     0  \n",
      "1    0           0    0           0     0           0     0  \n",
      "2    0           0    0           0     0           0     0  \n",
      "3    0           0    0           0     0           0     0  \n",
      "4    0           0    0           0     0           0     0  \n",
      "\n",
      "[5 rows x 3554 columns]\n",
      "    00  000   01   02  025   03   04   05  05b   06  ...   zolio  zone  \\\n",
      "0  0.0  0.0  0.0  0.0  0.0  0.0  0.0  0.0  0.0  0.0  ...     0.0   0.0   \n",
      "1  0.0  0.0  0.0  0.0  0.0  0.0  0.0  0.0  0.0  0.0  ...     0.0   0.0   \n",
      "2  0.0  0.0  0.0  0.0  0.0  0.0  0.0  0.0  0.0  0.0  ...     0.0   0.0   \n",
      "3  0.0  0.0  0.0  0.0  0.0  0.0  0.0  0.0  0.0  0.0  ...     0.0   0.0   \n",
      "4  0.0  0.0  0.0  0.0  0.0  0.0  0.0  0.0  0.0  0.0  ...     0.0   0.0   \n",
      "\n",
      "   zortrades  zsg  zticvyqtx7  zts  ztsz96ungo  zuck  zuckerberg  zyne  \n",
      "0        0.0  0.0         0.0  0.0         0.0   0.0         0.0   0.0  \n",
      "1        0.0  0.0         0.0  0.0         0.0   0.0         0.0   0.0  \n",
      "2        0.0  0.0         0.0  0.0         0.0   0.0         0.0   0.0  \n",
      "3        0.0  0.0         0.0  0.0         0.0   0.0         0.0   0.0  \n",
      "4        0.0  0.0         0.0  0.0         0.0   0.0         0.0   0.0  \n",
      "\n",
      "[5 rows x 3554 columns]\n",
      "set()\n",
      "False\n"
     ]
    }
   ],
   "source": [
    "# Print the head of count_df\n",
    "print(count_df.head())\n",
    "\n",
    "# Print the head of tfidf_df\n",
    "print(tfidf_df.head())\n",
    "\n",
    "# Calculate the difference in columns: difference\n",
    "difference = set(count_df) - set(tfidf_df)\n",
    "print(difference)\n",
    "\n",
    "# Check whether the DataFrames are equal\n",
    "print(count_df.equals(tfidf_df))"
   ]
  },
  {
   "cell_type": "markdown",
   "metadata": {},
   "source": [
    "## Multinomial Naive Bayes Classifier"
   ]
  },
  {
   "cell_type": "code",
   "execution_count": 53,
   "metadata": {},
   "outputs": [
    {
     "ename": "NameError",
     "evalue": "name 'y_true' is not defined",
     "output_type": "error",
     "traceback": [
      "\u001b[1;31m-------------------------------------------------------------\u001b[0m",
      "\u001b[1;31mNameError\u001b[0m                   Traceback (most recent call last)",
      "\u001b[1;32m<ipython-input-53-b8c7d97fb4ff>\u001b[0m in \u001b[0;36m<module>\u001b[1;34m()\u001b[0m\n\u001b[0;32m     13\u001b[0m \u001b[1;32mfrom\u001b[0m \u001b[0msklearn\u001b[0m\u001b[1;33m.\u001b[0m\u001b[0mmetrics\u001b[0m \u001b[1;32mimport\u001b[0m \u001b[0mf1_score\u001b[0m\u001b[1;33m\u001b[0m\u001b[0m\n\u001b[0;32m     14\u001b[0m \u001b[1;33m\u001b[0m\u001b[0m\n\u001b[1;32m---> 15\u001b[1;33m \u001b[0mf1score\u001b[0m \u001b[1;33m=\u001b[0m \u001b[0mf1_score\u001b[0m\u001b[1;33m(\u001b[0m\u001b[0my_true\u001b[0m\u001b[1;33m,\u001b[0m \u001b[0my_pred\u001b[0m\u001b[1;33m,\u001b[0m \u001b[0maverage\u001b[0m\u001b[1;33m=\u001b[0m\u001b[1;34m'macro'\u001b[0m\u001b[1;33m)\u001b[0m\u001b[1;33m\u001b[0m\u001b[0m\n\u001b[0m",
      "\u001b[1;31mNameError\u001b[0m: name 'y_true' is not defined"
     ]
    }
   ],
   "source": [
    "# Create a Multinomial Naive Bayes classifier: nb_classifier\n",
    "#nb_classifier = MultinomialNB()\n",
    "\n",
    "# Fit the classifier to the training data\n",
    "#nb_classifier.fit(tfidf_train, y_train)\n",
    "\n",
    "# Create the predicted tags: pred\n",
    "#pred = nb_classifier.predict(tfidf_test)\n",
    "\n",
    "# Calculate the accuracy score: score\n",
    "#score = metrics.accuracy_score(y_test, pred)\n"
   ]
  },
  {
   "cell_type": "code",
   "execution_count": null,
   "metadata": {
    "collapsed": true
   },
   "outputs": [],
   "source": [
    "## F1 Score Metrics\n",
    "from sklearn.metrics import f1_score\n",
    "\n",
    "macrof1score = f1_score(y_true, y_pred, average='macro')\n",
    "\n",
    "microf1score = f1_score(y_true, y_pred, average='micro') \n",
    "\n",
    "weightedf1score = f1_score(y_true, y_pred, average='weighted') \n",
    "\n",
    "f1score = f1_score(y_true, y_pred, average=None)\n",
    "\n"
   ]
  }
 ],
 "metadata": {
  "kernelspec": {
   "display_name": "Python 3",
   "language": "python",
   "name": "python3"
  },
  "language_info": {
   "codemirror_mode": {
    "name": "ipython",
    "version": 3
   },
   "file_extension": ".py",
   "mimetype": "text/x-python",
   "name": "python",
   "nbconvert_exporter": "python",
   "pygments_lexer": "ipython3",
   "version": "3.6.3"
  }
 },
 "nbformat": 4,
 "nbformat_minor": 2
}
